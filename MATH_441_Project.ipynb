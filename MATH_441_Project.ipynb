{
 "cells": [
  {
   "cell_type": "markdown",
   "id": "a2a47c3f",
   "metadata": {},
   "source": [
    "# FIFA Scheduling Code"
   ]
  },
  {
   "cell_type": "code",
   "execution_count": null,
   "id": "2e3c95e8",
   "metadata": {},
   "outputs": [],
   "source": [
    "import numpy as np\n",
    "from ortools.sat.python import cp_model"
   ]
  },
  {
   "cell_type": "code",
   "execution_count": 2,
   "id": "a88c0d95",
   "metadata": {},
   "outputs": [],
   "source": [
    "teams = [['Argentina', 'Brazil', 'Denmark', 'Peru'],\n",
    "         ['France', 'Croatia', 'Mexico', 'Poland'],\n",
    "         ['Egypt', 'Belgium', 'Spain', 'USA'],\n",
    "         ['Portugal', 'England', 'Morocco', 'Uruguay']]\n",
    "\n",
    "matchups = []"
   ]
  },
  {
   "cell_type": "code",
   "execution_count": 7,
   "id": "9a8bbf94-d1ed-4e58-bc29-aa18c0eaefa5",
   "metadata": {},
   "outputs": [],
   "source": [
    "# Solver code\n",
    "def schedule_matches(M, no_adjacent_matches, capacities, iteration=0):\n",
    "    num_matches = len(no_adjacent_matches)\n",
    "    num_stadiums = len(capacities)\n",
    "    num_days = len(M[0])\n",
    "# Create the model\n",
    "    model = cp_model.CpModel()\n",
    "# define the variables\n",
    "    matches = {}\n",
    "    for m in range(num_matches):\n",
    "        for d in range(num_days):\n",
    "            for s in range(num_stadiums):\n",
    "                matches[(m, d, s)] = model.NewBoolVar(f\"match_{m}_day_{d}_stadium_{s}\")\n",
    "\n",
    "    # Constraint: Matches cannot be within 3 days of each other\n",
    "    for m1 in range(num_matches):\n",
    "        for m2 in no_adjacent_matches[m1]:\n",
    "            for d in range(num_days):\n",
    "                        for prev_d in range(max(0, d - 3), d):\n",
    "                            if prev_d >= 0:\n",
    "                                model.Add(matches[(m1, d, s)] + matches[(m2, prev_d, s)] <= 1)\n",
    "                        for next_d in range(d + 1, min(d + 4, num_days)):\n",
    "                            model.Add(matches[(m1, d, s)] + matches[(m2, next_d, s)] <= 1)\n",
    "    \n",
    "    # Constraint: Each match is scheduled exactly once\n",
    "    for m in range(num_matches):\n",
    "        model.Add(sum(matches[(m, d, s)] for d in range(num_days) for s in range(num_stadiums)) == 1)\n",
    "        \n",
    "    # Constraint: Each stadium hosts at most one match per day\n",
    "    for d in range(num_days):\n",
    "        for s in range(num_stadiums):\n",
    "            model.Add(sum(matches[(m, d, s)] for m in range(num_matches)) <= 1)\n",
    "    # Objective function; m+1 is because matches are 0-indexed and we need them to be 1-indexed\n",
    "    model.Maximize(\n",
    "        sum(capacities[s] * (m + 1) * M[s][d] * matches[(m, d, s)]\n",
    "            for m in range(num_matches)\n",
    "            for d in range(num_days)\n",
    "            for s in range(num_stadiums))\n",
    "    )\n",
    "    # Solve the model and return as a matrix\n",
    "    solver = cp_model.CpSolver()\n",
    "    status = solver.Solve(model)\n",
    "\n",
    "    if status == cp_model.OPTIMAL:\n",
    "        scheduled = [[0 for _ in range(num_days)] for _ in range(num_stadiums)]\n",
    "        for d in range(num_days):\n",
    "            for m in range(num_matches):\n",
    "                for s in range(num_stadiums):\n",
    "                    if solver.Value(matches[(m, d, s)]) == 1:\n",
    "                        scheduled[s][d] = m + 1 + iteration #since matches are 1 to 6, 'iteration' adds the required amount to make the matches 7-12, 13-18, 19-14\n",
    "        return scheduled\n",
    "    else:\n",
    "        return None"
   ]
  },
  {
   "cell_type": "code",
   "execution_count": 4,
   "id": "147be543",
   "metadata": {},
   "outputs": [],
   "source": [
    "def update_matrix(M, solution):\n",
    "    if not solution:\n",
    "        return None\n",
    "\n",
    "    for s in range(len(solution)):\n",
    "        for d in range(len(solution[0])):\n",
    "            if solution[s][d] != 0:\n",
    "                M[s][d] = 0\n",
    "    \n",
    "    return M"
   ]
  },
  {
   "cell_type": "code",
   "execution_count": 19,
   "id": "e48a7aec-f2f3-4959-a452-814430ffcdb2",
   "metadata": {},
   "outputs": [
    {
     "name": "stdout",
     "output_type": "stream",
     "text": [
      "Matchups for Group 1:\n",
      "('Argentina', 'Brazil')\n",
      "('Argentina', 'Denmark')\n",
      "('Argentina', 'Peru')\n",
      "('Brazil', 'Denmark')\n",
      "('Brazil', 'Peru')\n",
      "('Denmark', 'Peru')\n",
      "Matchups for Group 2:\n",
      "('France', 'Croatia')\n",
      "('France', 'Mexico')\n",
      "('France', 'Poland')\n",
      "('Croatia', 'Mexico')\n",
      "('Croatia', 'Poland')\n",
      "('Mexico', 'Poland')\n",
      "Matchups for Group 3:\n",
      "('Egypt', 'Belgium')\n",
      "('Egypt', 'Spain')\n",
      "('Egypt', 'USA')\n",
      "('Belgium', 'Spain')\n",
      "('Belgium', 'USA')\n",
      "('Spain', 'USA')\n",
      "Matchups for Group 4:\n",
      "('Portugal', 'England')\n",
      "('Portugal', 'Morocco')\n",
      "('Portugal', 'Uruguay')\n",
      "('England', 'Morocco')\n",
      "('England', 'Uruguay')\n",
      "('Morocco', 'Uruguay')\n"
     ]
    }
   ],
   "source": [
    "    group_matchups = []\n",
    "    for i in range(len(group)):\n",
    "        for j in range(i+1, len(group)):\n",
    "            group_matchups.append((group[i], group[j]))\n",
    "    matchups.append(group_matchups)\n",
    "\n",
    "# Print the matchups for each group\n",
    "for i, group_matchups in enumerate(matchups):\n",
    "    print(f\"Matchups for Group {i+1}:\")\n",
    "    for matchup in group_matchups:\n",
    "        print(matchup)\n"
   ]
  },
  {
   "cell_type": "markdown",
   "id": "feee418a",
   "metadata": {},
   "source": [
    "As you can see, because of the way the groups were formulated, the `no_adjacent_matches` will be the same for all groups"
   ]
  },
  {
   "cell_type": "code",
   "execution_count": 6,
   "id": "e01a3e89-7798-4b01-85b7-0c57a54485ed",
   "metadata": {},
   "outputs": [],
   "source": [
    "no_adjacent_matches = [[1,2,3,4],[0,2,3,5],[0,1,4,5],[0,1,4,5],[0,2,3,5],[1,2,3,4]]"
   ]
  },
  {
   "cell_type": "code",
   "execution_count": 21,
   "id": "16fb694f-cab0-485f-b057-4057182204aa",
   "metadata": {},
   "outputs": [],
   "source": [
    "M = [\n",
    "    [1., 0., 0., 0., 0., 0., 0., 1., 0., 0., 0., 0., 1., 0., 0., 1., 0.],\n",
    "    [1., 0., 0., 0., 0., 0., 1., 0., 0., 0., 0., 0., 0., 1., 0., 0., 0.],\n",
    "    [0., 0., 0., 1., 0., 0., 0., 0., 0., 1., 0., 0., 0., 1., 0., 0., 0.],\n",
    "    [0., 0., 0., 1., 0., 0., 1., 0., 0., 1., 0., 0., 1., 0., 0., 1., 0.],\n",
    "    [0., 0., 0., 1., 0., 0., 1., 0., 0., 0., 0., 1., 0., 0., 1., 0., 1.],\n",
    "    [0., 0., 0., 0., 0., 1., 0., 0., 0., 1., 0., 0., 0., 0., 1., 0., 1.]\n",
    "]\n",
    "#Stadium capacities for the central region, in the order of the FIFA schedule\n",
    "capacities = [48000, 83000, 53500, 72000, 94000, 76000]\n",
    "#Generate a solution, update the matrix M, repeat for the next set of matches until all of them are scheduled.\n",
    "solution = schedule_matches(M, no_adjacent_matches, capacities, iteration=0)\n",
    "updated_M = update_matrix(M, solution)\n",
    "solution2 = schedule_matches(updated_M, no_adjacent_matches, capacities, iteration = 6)\n",
    "updated_M2 = update_matrix(updated_M, solution2)\n",
    "solution3 = schedule_matches(updated_M2, no_adjacent_matches, capacities, iteration = 12)\n",
    "updated_M3 = update_matrix(updated_M2, solution3)\n",
    "solution4 = schedule_matches(updated_M3, no_adjacent_matches, capacities, iteration = 18)"
   ]
  },
  {
   "cell_type": "code",
   "execution_count": 22,
   "id": "be82ec7e-a095-4ba7-955b-29f5f2c1e7ab",
   "metadata": {},
   "outputs": [
    {
     "name": "stdout",
     "output_type": "stream",
     "text": [
      "Combined matrix:\n",
      "[20, 0, 0, 0, 0, 0, 0, 21, 0, 0, 0, 0, 22, 0, 0, 19, 0]\n",
      "[1, 0, 0, 0, 0, 0, 12, 0, 0, 0, 0, 0, 0, 11, 0, 0, 0]\n",
      "[0, 0, 0, 24, 0, 0, 0, 0, 0, 23, 0, 0, 0, 13, 0, 0, 0]\n",
      "[0, 0, 0, 17, 0, 0, 15, 0, 0, 16, 0, 0, 18, 0, 0, 14, 0]\n",
      "[0, 0, 0, 2, 0, 0, 4, 0, 0, 0, 0, 5, 0, 0, 3, 0, 6]\n",
      "[0, 0, 0, 0, 0, 7, 0, 0, 0, 8, 0, 0, 0, 0, 10, 0, 9]\n"
     ]
    }
   ],
   "source": [
    "def combine_matrices(matrix1, matrix2):\n",
    "    if len(matrix1) != len(matrix2) or len(matrix1[0]) != len(matrix2[0]):\n",
    "        return None  # Matrices must have the same dimensions\n",
    "    \n",
    "    combined_matrix = []\n",
    "    for i in range(len(matrix1)):\n",
    "        row = []\n",
    "        for j in range(len(matrix1[0])):\n",
    "            row.append(matrix1[i][j] + matrix2[i][j])\n",
    "        combined_matrix.append(row)\n",
    "    \n",
    "    return combined_matrix\n",
    "\n",
    "part1 = combine_matrices(solution, solution2)\n",
    "part2 = combine_matrices(solution3, solution4)\n",
    "total = combine_matrices(part1, part2)\n",
    "\n",
    "if total:\n",
    "    print(\"Combined matrix:\")\n",
    "    for row in total:\n",
    "        print(row)\n",
    "else:\n",
    "    print(\"Matrices must have the same dimensions!\")"
   ]
  },
  {
   "cell_type": "code",
   "execution_count": 23,
   "id": "af7ddab7-29cb-4e87-8ac3-3621dd84957d",
   "metadata": {},
   "outputs": [],
   "source": [
    "matchups_ranked = [('Denmark', 'Peru'),('Brazil', 'Peru'),('Brazil', 'Denmark'),('Argentina', 'Peru'),('Argentina', 'Denmark'),('Argentina', 'Brazil'),\n",
    "                   ('Mexico', 'Poland'),('Croatia', 'Poland'),('Croatia', 'Mexico'),('France', 'Poland'),('France', 'Mexico'),('France', 'Croatia'),\n",
    "                   ('Egypt', 'USA'),('Egypt', 'Spain'),('Egypt', 'Belgium'),('Spain', 'USA'),('Belgium', 'USA'),('Belgium', 'Spain'),\n",
    "                   ('Morocco', 'Uruguay'),('Portugal', 'Uruguay'),('England', 'Uruguay'),('Portugal', 'Morocco'),('England', 'Morocco'),('Portugal', 'England')]"
   ]
  },
  {
   "cell_type": "code",
   "execution_count": 24,
   "id": "4060b109-35a1-40fb-9938-2832a3e75551",
   "metadata": {},
   "outputs": [
    {
     "name": "stdout",
     "output_type": "stream",
     "text": [
      "[' Portugal vs. Uruguay', 0, 0, 0, 0, 0, 0, ' England vs. Uruguay', 0, 0, 0, 0, ' Portugal vs. Morocco', 0, 0, ' Morocco vs. Uruguay', 0]\n",
      "[' Denmark vs. Peru', 0, 0, 0, 0, 0, ' France vs. Croatia', 0, 0, 0, 0, 0, 0, ' France vs. Mexico', 0, 0, 0]\n",
      "[0, 0, 0, ' Portugal vs. England', 0, 0, 0, 0, 0, ' England vs. Morocco', 0, 0, 0, ' Egypt vs. USA', 0, 0, 0]\n",
      "[0, 0, 0, ' Belgium vs. USA', 0, 0, ' Egypt vs. Belgium', 0, 0, ' Spain vs. USA', 0, 0, ' Belgium vs. Spain', 0, 0, ' Egypt vs. Spain', 0]\n",
      "[0, 0, 0, ' Brazil vs. Peru', 0, 0, ' Argentina vs. Peru', 0, 0, 0, 0, ' Argentina vs. Denmark', 0, 0, ' Brazil vs. Denmark', 0, ' Argentina vs. Brazil']\n",
      "[0, 0, 0, 0, 0, ' Mexico vs. Poland', 0, 0, 0, ' Croatia vs. Poland', 0, 0, 0, 0, ' France vs. Poland', 0, ' Croatia vs. Mexico']\n"
     ]
    }
   ],
   "source": [
    "# Fill the matrix with the corresponding matches\n",
    "for match_num, match in enumerate(matchups_ranked, start=1):\n",
    "    for i, row in enumerate(total):\n",
    "        for j, cell in enumerate(row):\n",
    "            if cell == match_num:\n",
    "                total[i][j] = f\" {match[0]} vs. {match[1]}\"\n",
    "\n",
    "# Print the filled matrix\n",
    "for row in total:\n",
    "    print(row)"
   ]
  }
 ],
 "metadata": {
  "kernelspec": {
   "display_name": "Python 3 (ipykernel)",
   "language": "python",
   "name": "python3"
  },
  "language_info": {
   "codemirror_mode": {
    "name": "ipython",
    "version": 3
   },
   "file_extension": ".py",
   "mimetype": "text/x-python",
   "name": "python",
   "nbconvert_exporter": "python",
   "pygments_lexer": "ipython3",
   "version": "3.12.2"
  }
 },
 "nbformat": 4,
 "nbformat_minor": 5
}
