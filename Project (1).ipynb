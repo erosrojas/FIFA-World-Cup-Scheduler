{
 "cells": [
  {
   "cell_type": "code",
   "execution_count": 63,
   "id": "e0379516-f080-4253-aceb-14d23a543bbd",
   "metadata": {},
   "outputs": [],
   "source": [
    "import numpy as np"
   ]
  },
  {
   "cell_type": "code",
   "execution_count": 64,
   "id": "e8d1cfda-a833-4b67-9048-98c50c069521",
   "metadata": {},
   "outputs": [],
   "source": [
    "M = np.zeros((6,17))"
   ]
  },
  {
   "cell_type": "code",
   "execution_count": 65,
   "id": "12b56612-f199-4b3e-9d48-5841cecc217b",
   "metadata": {},
   "outputs": [],
   "source": [
    "S1 = [[0,7,12,15],\n",
    "     [0,6,13],\n",
    "     [3,9,13],\n",
    "     [3,6,9,12,15],\n",
    "     [3,6,11,14,16],\n",
    "     [5,9,14,16]]\n",
    "S2 = S1"
   ]
  },
  {
   "cell_type": "code",
   "execution_count": 66,
   "id": "485de884-b5a7-4b7a-93ad-4f78124ef453",
   "metadata": {},
   "outputs": [],
   "source": [
    "for j in range(0,6):\n",
    "    for i in range(0,len(S[j])):\n",
    "        M[j][S1[j][i]] = 1"
   ]
  },
  {
   "cell_type": "code",
   "execution_count": 67,
   "id": "eba9016c-3603-4c99-8ae6-ec6c247bc861",
   "metadata": {},
   "outputs": [
    {
     "data": {
      "text/plain": [
       "array([[1., 0., 0., 0., 0., 0., 0., 1., 0., 0., 0., 0., 1., 0., 0., 1.,\n",
       "        0.],\n",
       "       [1., 0., 0., 0., 0., 0., 1., 0., 0., 0., 0., 0., 0., 1., 0., 0.,\n",
       "        0.],\n",
       "       [0., 0., 0., 1., 0., 0., 0., 0., 0., 1., 0., 0., 0., 1., 0., 0.,\n",
       "        0.],\n",
       "       [0., 0., 0., 1., 0., 0., 1., 0., 0., 1., 0., 0., 1., 0., 0., 1.,\n",
       "        0.],\n",
       "       [0., 0., 0., 1., 0., 0., 1., 0., 0., 0., 0., 1., 0., 0., 1., 0.,\n",
       "        1.],\n",
       "       [0., 0., 0., 0., 0., 1., 0., 0., 0., 1., 0., 0., 0., 0., 1., 0.,\n",
       "        1.]])"
      ]
     },
     "execution_count": 67,
     "metadata": {},
     "output_type": "execute_result"
    }
   ],
   "source": [
    "M"
   ]
  },
  {
   "cell_type": "markdown",
   "id": "b784d1f3-09f1-4ed5-96b0-7ac0823d2fcb",
   "metadata": {},
   "source": [
    "At this point matrix M contains the schedule of available match days where the only valid slots are where the value is 0"
   ]
  },
  {
   "cell_type": "code",
   "execution_count": 68,
   "id": "5685a939-7f6b-4f34-b386-62775261bced",
   "metadata": {},
   "outputs": [
    {
     "data": {
      "text/plain": [
       "array([[ 1.,  2.,  3.,  4.,  5.,  6.],\n",
       "       [ 7.,  8.,  9., 10., 11., 12.],\n",
       "       [13., 14., 15., 16., 17., 18.],\n",
       "       [19., 20., 21., 22., 23., 24.]])"
      ]
     },
     "execution_count": 68,
     "metadata": {},
     "output_type": "execute_result"
    }
   ],
   "source": [
    "G1 = np.zeros((4,6))\n",
    "for k in range(0,4):\n",
    "    for j in range(0,6):\n",
    "        G1[k][j] = 5*k + j + k + 1\n",
    "\n",
    "G2 = G1\n",
    "G1"
   ]
  },
  {
   "cell_type": "code",
   "execution_count": 69,
   "id": "b4498931-f706-416b-9458-29f775442364",
   "metadata": {},
   "outputs": [],
   "source": [
    "within_3_days = np.array([[2,3,4,5],[1,3,4,6],[1,2,5,6],[1,2,5,6],[1,3,4,6],[2,3,4,5],\n",
    "                [8,9,10,11],[7,9,10,12],[7,8,11,12],[7,8,11,12],[7,9,10,12],[8,9,10,11],\n",
    "                 [14,15,16,17],[13,15,16,18],[13,14,17,18],[13,14,17,18],[13,15,16,18],[14,15,16,17],\n",
    "                 [20,21,22,23],[19,21,22,24],[19,20,23,24],[19,20,23,24],[19,21,22,24],[20,21,22,23]])\n",
    "#this shows which matches cannot be within 3 days of each other. \n",
    "#for a given match i within_3_days[i] gives a list of the matches that cannot be within 3 days of match i."
   ]
  },
  {
   "cell_type": "code",
   "execution_count": 70,
   "id": "9d82d720-f14b-4e5f-bd88-7c4ea4720f83",
   "metadata": {},
   "outputs": [
    {
     "data": {
      "text/plain": [
       "array([[-1., -0., -0., -0., -0., -0., -0.,  2., -0., -0., -0., -0., -1.,\n",
       "        -0., -0., -1., -0.],\n",
       "       [ 1., -0., -0., -0., -0., -0., -1., -0., -0., -0., -0., -0., -0.,\n",
       "         3., -0., -0., -0.],\n",
       "       [-0., -0., -0., -1., -0., -0., -0., -0., -0., -1., -0., -0., -0.,\n",
       "        -1., -0., -0., -0.],\n",
       "       [-0., -0., -0., -1., -0., -0., -1., -0., -0., -1., -0., -0., -1.,\n",
       "        -0., -0., -1., -0.],\n",
       "       [-0., -0., -0., -1., -0., -0., -1., -0., -0., -0., -0., -1., -0.,\n",
       "        -0., -1., -0., -1.],\n",
       "       [-0., -0., -0., -0., -0., -1., -0., -0., -0., -1., -0., -0., -0.,\n",
       "        -0., -1., -0., -1.]])"
      ]
     },
     "execution_count": 70,
     "metadata": {},
     "output_type": "execute_result"
    }
   ],
   "source": [
    "scheduled = -M\n",
    "scheduled[1][0] = 1\n",
    "scheduled[0][7] = 2\n",
    "scheduled[1][13] = 3\n",
    "scheduled\n",
    "#this code assigned matches for Mexico that have already been predetermined by FIFA"
   ]
  },
  {
   "cell_type": "code",
   "execution_count": 71,
   "id": "9b74332f-50ab-4dae-a87e-62e3df3fe716",
   "metadata": {},
   "outputs": [],
   "source": [
    "def check_constraints(day,stadium,match,scheduled):\n",
    "    if((day in S1[stadium]) and (day in S2[stadium])): #checks if the stadium contains a slot for the given day and removes that slot if valid\n",
    "        S2[stadium].pop(day)\n",
    "        return True\n",
    "    else: return False\n",
    "    if(not check_3_days(match,day,scheduled)): #checks if the given match allows 3 days of rest\n",
    "        return False\n",
    "    else: return True"
   ]
  },
  {
   "cell_type": "code",
   "execution_count": 73,
   "id": "937b4b12-5ae8-403f-b097-837685399469",
   "metadata": {},
   "outputs": [],
   "source": [
    "def check_3_days(match,day,scheduled):\n",
    "    illegal = within_3_days[match]\n",
    "    if((day-3)<=0):\n",
    "        start = 0\n",
    "    else: start = day-3\n",
    "    if((day+3)>=23):\n",
    "        end = 23\n",
    "    else: end = day + 3\n",
    "    for i in range(0,len(illegal)):\n",
    "        if(i in scheduled[:,start:end]):\n",
    "            return False\n",
    "    return True"
   ]
  },
  {
   "cell_type": "code",
   "execution_count": 74,
   "id": "36b2ac6c-6412-4df0-b5d7-84e09c041a8a",
   "metadata": {},
   "outputs": [],
   "source": [
    "#pseudo-code for the actual solver\n",
    "\n",
    "#solver(S1,S2,M,scheduled,G1,G2):\n",
    "    #choose a match from G1 that is still available in G2 and pick the first valid slot from M (i.e. extract indeces of M)\n",
    "    #so for the chosen slot M: stadium = row i, day equals column j\n",
    "    #if(check_constraints(j,i,G1 choice,scheduled))\n",
    "        #G2.pop(G1 choice)\n",
    "        #scheduled[stadium][day] = match\n",
    "    #else backtrack\n",
    "    #call solver again with new scheduled"
   ]
  },
  {
   "cell_type": "code",
   "execution_count": null,
   "id": "ae469ae4-4109-4c57-bc44-ebf3eccc56db",
   "metadata": {},
   "outputs": [],
   "source": []
  }
 ],
 "metadata": {
  "kernelspec": {
   "display_name": "Python 3 (ipykernel)",
   "language": "python",
   "name": "python3"
  },
  "language_info": {
   "codemirror_mode": {
    "name": "ipython",
    "version": 3
   },
   "file_extension": ".py",
   "mimetype": "text/x-python",
   "name": "python",
   "nbconvert_exporter": "python",
   "pygments_lexer": "ipython3",
   "version": "3.11.6"
  }
 },
 "nbformat": 4,
 "nbformat_minor": 5
}
